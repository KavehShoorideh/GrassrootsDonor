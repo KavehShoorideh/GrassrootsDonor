{
 "cells": [
  {
   "cell_type": "code",
   "execution_count": 6,
   "metadata": {},
   "outputs": [
    {
     "ename": "SyntaxError",
     "evalue": "invalid syntax (prepare_training_data.py, line 158)",
     "output_type": "error",
     "traceback": [
      "Traceback \u001b[1;36m(most recent call last)\u001b[0m:\n",
      "  File \u001b[0;32m\"C:\\Users\\kaveh\\.conda\\envs\\insight\\lib\\site-packages\\IPython\\core\\interactiveshell.py\"\u001b[0m, line \u001b[0;32m3326\u001b[0m, in \u001b[0;35mrun_code\u001b[0m\n    exec(code_obj, self.user_global_ns, self.user_ns)\n",
      "\u001b[1;36m  File \u001b[1;32m\"<ipython-input-6-1661d4dba94a>\"\u001b[1;36m, line \u001b[1;32m5\u001b[1;36m, in \u001b[1;35m<module>\u001b[1;36m\u001b[0m\n\u001b[1;33m    from prepare_training_data import engineerFeatures as eng\u001b[0m\n",
      "\u001b[1;36m  File \u001b[1;32m\"C:\\Users\\kaveh\\OneDrive\\Code Repos\\Data Science\\Insight\\PolitImpact\\politimpact\\prepare_training_data.py\"\u001b[1;36m, line \u001b[1;32m158\u001b[0m\n\u001b[1;33m    dfCand.loc[:, 'VOTE_PCT'] = dfCand.apply(lambda x: x['VOTE_TOTAL'] / dfRace.set_index(race_key).loc[] )\u001b[0m\n\u001b[1;37m                                                                                                        ^\u001b[0m\n\u001b[1;31mSyntaxError\u001b[0m\u001b[1;31m:\u001b[0m invalid syntax\n"
     ]
    }
   ],
   "source": [
    "import config as cfg\n",
    "import pandas as pd\n",
    "from datetime import datetime\n",
    "from collections import defaultdict\n",
    "from prepare_training_data import engineerFeatures as eng\n"
   ]
  },
  {
   "cell_type": "code",
   "execution_count": null,
   "metadata": {},
   "outputs": [],
   "source": [
    "dfMoney = pd.read_csv(cfg.cleaned_money_file, index_col=0, low_memory=False)\n",
    "dfRace = pd.read_csv(cfg.cleaned_race_file, index_col=0)\n",
    "dfCand = pd.read_csv(cfg.cleaned_candidate_file, index_col=0)\n",
    "tables = engineerFeatures(dfCand, dfRace, dfMoney)"
   ]
  }
 ],
 "metadata": {
  "kernelspec": {
   "display_name": "Python 3",
   "language": "python",
   "name": "python3"
  },
  "language_info": {
   "codemirror_mode": {
    "name": "ipython",
    "version": 3
   },
   "file_extension": ".py",
   "mimetype": "text/x-python",
   "name": "python",
   "nbconvert_exporter": "python",
   "pygments_lexer": "ipython3",
   "version": "3.7.4"
  }
 },
 "nbformat": 4,
 "nbformat_minor": 2
}
