{
 "cells": [
  {
   "cell_type": "code",
   "execution_count": 3,
   "metadata": {},
   "outputs": [],
   "source": [
    "from os import chdir\n",
    "chdir('..')\n",
    "import config\n",
    "import numpy as np\n",
    "import pandas as pd\n",
    "import matplotlib.pyplot as plt\n",
    "import seaborn as sns"
   ]
  },
  {
   "cell_type": "code",
   "execution_count": 2,
   "metadata": {},
   "outputs": [
    {
     "ename": "IndentationError",
     "evalue": "unexpected indent (<ipython-input-2-098af8d84d86>, line 11)",
     "output_type": "error",
     "traceback": [
      "\u001b[1;36m  File \u001b[1;32m\"<ipython-input-2-098af8d84d86>\"\u001b[1;36m, line \u001b[1;32m11\u001b[0m\n\u001b[1;33m    def __init__(self, canddf=None):\u001b[0m\n\u001b[1;37m    ^\u001b[0m\n\u001b[1;31mIndentationError\u001b[0m\u001b[1;31m:\u001b[0m unexpected indent\n"
     ]
    }
   ],
   "source": [
    "from sklearn.base import BaseEstimator, RegressorMixin\n",
    "from sklearn.ensemble import RandomForestRegressor\n",
    "\n",
    "\"\"\"\n",
    "Kaveh's Classifier\n",
    "The way this works:\n",
    "A default race list and candidate list is supplied, with default features.\n",
    "Then, as the model fit method is called for each candidate row, the race looks up needed relevant data from the default\n",
    "tables.\n",
    "\"\"\"\n",
    "\n",
    "    def __init__(self, canddf=None, **kwargs):\n",
    "        \"\"\"\n",
    "        :param canddf: default df with candidate features and race info\n",
    "        \"\"\"\n",
    "        self.cand_df = cand_df\n",
    "        \n",
    "        \n",
    "    def _lookup_other_candidates(this_cand):\n",
    "        \n",
    "       \n",
    "        \"\"\"\n",
    "        Given a candidate, return all candidates running in the race with him, and all their features\n",
    "        \"\"\"\n",
    "        race_key = ['CONTEST_NAME', 'ELECTION_DATE']\n",
    "        cand_key = [*race_key, 'CANDIDATE_NAME']\n",
    "        this_race = this_cand[race_key]\n",
    "        mask = (self.cand_df[race_key] == this_race)\n",
    "        others = self.cand_df[mask]\n",
    "        return others # includes this_cand\n",
    "    \n",
    "    def _write_back_into_table(defaultResults):\n",
    "        pass\n",
    "         \n",
    "        \n",
    "\n",
    "    def fit(self, X, y=None):\n",
    "        \"\"\"\n",
    "        This should fit classifier. All the \"work\" should be done here.\n",
    "\n",
    "        Note: assert is not a good choice here and you should rather\n",
    "        use try/except blog with exceptions. This is just for short syntax.\n",
    "        \"\"\"\n",
    "        \n",
    "        reg = RandomForestRegressor()\n",
    "        \n",
    "        \n",
    "\n",
    "        self.treshold_ = (sum(X)/len(X)) + self.intValue  # mean + intValue\n",
    "\n",
    "        return self\n",
    "\n",
    "    def _meaning(self, x):\n",
    "        # returns True/False according to fitted classifier\n",
    "        # notice underscore on the beginning\n",
    "        return( True if x >= self.treshold_ else False )\n",
    "\n",
    "    def predict(self, X, y=None):\n",
    "        try:\n",
    "            getattr(self, \"treshold_\")\n",
    "        except AttributeError:\n",
    "            raise RuntimeError(\"You must train classifer before predicting data!\")\n",
    "\n",
    "        return([self._meaning(x) for x in X])\n",
    "\n",
    "    def score(self, X, y=None):\n",
    "        # counts number of values bigger than mean\n",
    "        return(sum(self.predict(X))) "
   ]
  },
  {
   "cell_type": "code",
   "execution_count": null,
   "metadata": {},
   "outputs": [],
   "source": []
  }
 ],
 "metadata": {
  "kernelspec": {
   "display_name": "Python 3",
   "language": "python",
   "name": "python3"
  },
  "language_info": {
   "codemirror_mode": {
    "name": "ipython",
    "version": 3
   },
   "file_extension": ".py",
   "mimetype": "text/x-python",
   "name": "python",
   "nbconvert_exporter": "python",
   "pygments_lexer": "ipython3",
   "version": "3.7.4"
  }
 },
 "nbformat": 4,
 "nbformat_minor": 2
}
